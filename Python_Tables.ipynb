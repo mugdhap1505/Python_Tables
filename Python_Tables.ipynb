{
 "cells": [
  {
   "cell_type": "markdown",
   "metadata": {},
   "source": [
    "## Python : Print Tables"
   ]
  },
  {
   "cell_type": "markdown",
   "metadata": {},
   "source": [
    "## PrettyTable"
   ]
  },
  {
   "cell_type": "markdown",
   "metadata": {},
   "source": [
    "PrettyTable is a Python library for generating simple ASCII tables. It was inspired by the ASCII tables used in the PostgreSQL shell psql. We can control many aspects of a table, such as the width of the column padding, the alignment of text, or the table border. We can sort data.\n",
    "\n",
    "We can also choose which columns and rows are going to be displayed in the final output. PrettyTable can read data from CSV, HTML, or database cursor and output data in ASCII or HTML"
   ]
  },
  {
   "cell_type": "markdown",
   "metadata": {},
   "source": [
    "### PrettyTable installation"
   ]
  },
  {
   "cell_type": "markdown",
   "metadata": {},
   "source": [
    "$ sudo pip3 install PTable"
   ]
  },
  {
   "cell_type": "code",
   "execution_count": 6,
   "metadata": {},
   "outputs": [
    {
     "name": "stdout",
     "output_type": "stream",
     "text": [
      "+------------+------+------------+-----------------+\n",
      "|   City     | Area | Population | Annual Rainfall |\n",
      "+------------+------+------------+-----------------+\n",
      "|  Clemson   | 1295 |  1158259   |      600.5      |\n",
      "| Greenville | 5905 |  1857594   |      1146.4     |\n",
      "|   Seneca   | 112  |   120900   |      1714.7     |\n",
      "| Nashville  | 1357 |   205556   |      619.5      |\n",
      "|   Sydney   | 2058 |  4336374   |      1214.8     |\n",
      "| Melbourne  | 1566 |  3806092   |      646.9      |\n",
      "|   Perth    | 5386 |  1554769   |      869.4      |\n",
      "+------------+------+------------+-----------------+\n"
     ]
    }
   ],
   "source": [
    "from prettytable import PrettyTable\n",
    "    \n",
    "x = PrettyTable()\n",
    "\n",
    "x.field_names = [\"City \", \"Area\", \"Population\", \"Annual Rainfall\"]\n",
    "\n",
    "x.add_row([\"Clemson\", 1295, 1158259, 600.5])\n",
    "x.add_row([\"Greenville\", 5905, 1857594, 1146.4])\n",
    "x.add_row([\"Seneca\", 112, 120900, 1714.7])\n",
    "x.add_row([\"Nashville\", 1357, 205556, 619.5])\n",
    "x.add_row([\"Sydney\", 2058, 4336374, 1214.8])\n",
    "x.add_row([\"Melbourne\", 1566, 3806092, 646.9])\n",
    "x.add_row([\"Perth\", 5386, 1554769, 869.4])\n",
    "\n",
    "print(x)"
   ]
  },
  {
   "cell_type": "code",
   "execution_count": 7,
   "metadata": {},
   "outputs": [],
   "source": [
    "x.field_names = [\"City \", \"Area\", \"Population\", \"Annual Rainfall\"]"
   ]
  },
  {
   "cell_type": "code",
   "execution_count": 8,
   "metadata": {},
   "outputs": [],
   "source": [
    "x.add_row([\"Adelaide\", 1295, 1158259, 600.5])\n",
    "x.add_row([\"Brisbane\", 5905, 1857594, 1146.4])"
   ]
  },
  {
   "cell_type": "code",
   "execution_count": 9,
   "metadata": {},
   "outputs": [
    {
     "name": "stdout",
     "output_type": "stream",
     "text": [
      "+------------+------+------------+-----------------+\n",
      "|   City     | Area | Population | Annual Rainfall |\n",
      "+------------+------+------------+-----------------+\n",
      "|  Clemson   | 1295 |  1158259   |      600.5      |\n",
      "| Greenville | 5905 |  1857594   |      1146.4     |\n",
      "|   Seneca   | 112  |   120900   |      1714.7     |\n",
      "| Nashville  | 1357 |   205556   |      619.5      |\n",
      "|   Sydney   | 2058 |  4336374   |      1214.8     |\n",
      "| Melbourne  | 1566 |  3806092   |      646.9      |\n",
      "|   Perth    | 5386 |  1554769   |      869.4      |\n",
      "|  Adelaide  | 1295 |  1158259   |      600.5      |\n",
      "|  Brisbane  | 5905 |  1857594   |      1146.4     |\n",
      "+------------+------+------------+-----------------+\n"
     ]
    }
   ],
   "source": [
    "print(x)"
   ]
  },
  {
   "cell_type": "code",
   "execution_count": 10,
   "metadata": {},
   "outputs": [
    {
     "name": "stdout",
     "output_type": "stream",
     "text": [
      "<table>\n",
      "    <tr>\n",
      "        <th>City </th>\n",
      "        <th>Area</th>\n",
      "        <th>Population</th>\n",
      "        <th>Annual Rainfall</th>\n",
      "    </tr>\n",
      "    <tr>\n",
      "        <td>Clemson</td>\n",
      "        <td>1295</td>\n",
      "        <td>1158259</td>\n",
      "        <td>600.5</td>\n",
      "    </tr>\n",
      "    <tr>\n",
      "        <td>Greenville</td>\n",
      "        <td>5905</td>\n",
      "        <td>1857594</td>\n",
      "        <td>1146.4</td>\n",
      "    </tr>\n",
      "    <tr>\n",
      "        <td>Seneca</td>\n",
      "        <td>112</td>\n",
      "        <td>120900</td>\n",
      "        <td>1714.7</td>\n",
      "    </tr>\n",
      "    <tr>\n",
      "        <td>Nashville</td>\n",
      "        <td>1357</td>\n",
      "        <td>205556</td>\n",
      "        <td>619.5</td>\n",
      "    </tr>\n",
      "    <tr>\n",
      "        <td>Sydney</td>\n",
      "        <td>2058</td>\n",
      "        <td>4336374</td>\n",
      "        <td>1214.8</td>\n",
      "    </tr>\n",
      "    <tr>\n",
      "        <td>Melbourne</td>\n",
      "        <td>1566</td>\n",
      "        <td>3806092</td>\n",
      "        <td>646.9</td>\n",
      "    </tr>\n",
      "    <tr>\n",
      "        <td>Perth</td>\n",
      "        <td>5386</td>\n",
      "        <td>1554769</td>\n",
      "        <td>869.4</td>\n",
      "    </tr>\n",
      "    <tr>\n",
      "        <td>Adelaide</td>\n",
      "        <td>1295</td>\n",
      "        <td>1158259</td>\n",
      "        <td>600.5</td>\n",
      "    </tr>\n",
      "    <tr>\n",
      "        <td>Brisbane</td>\n",
      "        <td>5905</td>\n",
      "        <td>1857594</td>\n",
      "        <td>1146.4</td>\n",
      "    </tr>\n",
      "</table>\n"
     ]
    }
   ],
   "source": [
    "print(x.get_html_string())"
   ]
  },
  {
   "cell_type": "markdown",
   "metadata": {},
   "source": [
    "## Tabulate "
   ]
  },
  {
   "cell_type": "code",
   "execution_count": 11,
   "metadata": {},
   "outputs": [
    {
     "name": "stdout",
     "output_type": "stream",
     "text": [
      "| Name   |   Age | University   |\n",
      "|--------+-------+--------------|\n",
      "| Moo    |    21 | USC          |\n",
      "| Foo    |    22 | CU           |\n",
      "| M      |    23 | UFL          |\n"
     ]
    }
   ],
   "source": [
    "from tabulate import tabulate\n",
    "\n",
    "l = [[\"Moo\", 21, \"USC\"], [\"Foo\", 22, \"CU\"], [\"M\", 23, \"UFL\"]]\n",
    "table = tabulate(l, headers=['Name', 'Age', 'University'], tablefmt='orgtbl')\n",
    "\n",
    "print(table)"
   ]
  },
  {
   "cell_type": "markdown",
   "metadata": {},
   "source": [
    "## Texttable"
   ]
  },
  {
   "cell_type": "code",
   "execution_count": 12,
   "metadata": {},
   "outputs": [
    {
     "name": "stdout",
     "output_type": "stream",
     "text": [
      "+--------+-----+------------+\n",
      "|  Name  | Age | University |\n",
      "+========+=====+============+\n",
      "| Hassan | 21  | LUMS       |\n",
      "+--------+-----+------------+\n",
      "| Ali    | 22  | FAST       |\n",
      "+--------+-----+------------+\n",
      "| Ahmed  | 23  | UET        |\n",
      "+--------+-----+------------+\n"
     ]
    }
   ],
   "source": [
    "from texttable import Texttable\n",
    "\n",
    "# texttable takes the first reocrd in the list as the column names\n",
    "# of the table\n",
    "l = [[\"Name\", \"Age\", \"University\"], [\"Hassan\", 21, \"LUMS\"], [\"Ali\", 22, \"FAST\"], [\"Ahmed\", 23, \"UET\"]]\n",
    "\n",
    "table = Texttable()\n",
    "table.add_rows(l)\n",
    "print(table.draw())"
   ]
  },
  {
   "cell_type": "code",
   "execution_count": null,
   "metadata": {},
   "outputs": [],
   "source": []
  }
 ],
 "metadata": {
  "kernelspec": {
   "display_name": "Python 3",
   "language": "python",
   "name": "python3"
  },
  "language_info": {
   "codemirror_mode": {
    "name": "ipython",
    "version": 3
   },
   "file_extension": ".py",
   "mimetype": "text/x-python",
   "name": "python",
   "nbconvert_exporter": "python",
   "pygments_lexer": "ipython3",
   "version": "3.7.4"
  }
 },
 "nbformat": 4,
 "nbformat_minor": 2
}
